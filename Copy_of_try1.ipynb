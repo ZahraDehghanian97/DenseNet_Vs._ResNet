{
  "nbformat": 4,
  "nbformat_minor": 0,
  "metadata": {
    "accelerator": "GPU",
    "colab": {
      "name": "Copy of try1.ipynb",
      "provenance": [],
      "collapsed_sections": []
    },
    "kernelspec": {
      "display_name": "Python 3",
      "name": "python3"
    },
    "language_info": {
      "name": "python"
    }
  },
  "cells": [
    {
      "cell_type": "code",
      "metadata": {
        "id": "P7lj8QYN56Yw"
      },
      "source": [
        "try:\n",
        "  %load_ext tensorboard\n",
        "except:\n",
        "  pass"
      ],
      "execution_count": null,
      "outputs": []
    },
    {
      "cell_type": "code",
      "metadata": {
        "id": "dQiMRdCD47Fc"
      },
      "source": [
        "import pandas as pd\n",
        "import numpy as np\n",
        "from sklearn.model_selection import train_test_split\n",
        "from tensorflow import keras\n",
        "import tensorflow as tf\n",
        "from PIL import Image\n",
        "import glob\n",
        "import matplotlib.pyplot as plt\n",
        "import cv2\n",
        "from sklearn.metrics import accuracy_score,confusion_matrix\n",
        "from statistics import median"
      ],
      "execution_count": null,
      "outputs": []
    },
    {
      "cell_type": "code",
      "metadata": {
        "id": "6U5736M40RYU"
      },
      "source": [
        "class EarlyStoppingCallback(keras.callbacks.Callback):\n",
        "  def __init__(self,patience=0):\n",
        "    super(EarlyStoppingCallback,self).__init__()\n",
        "    self.patience=patience\n",
        "    self.writer=tf.summary.create_file_writer('./logs')\n",
        "  def on_train_begin(self,logs=None):\n",
        "    self.best=np.Inf\n",
        "    self.wait=0#for countinf waiting epoch\n",
        "    self.stopped_epoch=0\n",
        "  def on_epoch_end(self,epoch,logs=None):\n",
        "    current_loss=logs.get(\"val_loss\")\n",
        "    if np.less(current_loss,self.best):\n",
        "      self.best=current_loss\n",
        "      self.wait=0\n",
        "      self.best_weights=self.model.get_weights()\n",
        "    else:\n",
        "      self.wait+=1\n",
        "      print(\"\\nwait mode, step: %d\"% self.wait)\n",
        "      if self.wait>=self.patience:\n",
        "        self.stopped_epoch=epoch\n",
        "        self.model.stop_training=True#########################training vaymise\n",
        "        self.model.set_weights(self.best_weights)\n",
        "      with self.writer.as_default():\n",
        "        tf.summary.scalar('wait',self.wait,step=epoch)#mitonim jaye summary , histogram ,image ya harja ke mikhaym chizi benevisim bezarim\n",
        "      self.writer.flush()\n",
        "  #check if we stop or early forc to stop\n",
        "  def on_train_end(self,logs=None):\n",
        "    if self.stopped_epoch>0:\n",
        "      print(\"epoch: %d : early stopping.\"% self.stopped_epoch)\n"
      ],
      "execution_count": null,
      "outputs": []
    },
    {
      "cell_type": "code",
      "metadata": {
        "id": "vVTsNKSiBBLt"
      },
      "source": [
        "def load_file():\n",
        "  outdoor_path='/content/drive/MyDrive/Colab Notebooks/NN/hw4/dataset/outdoor/*'#global path for outdoor\n",
        "  indoor_path='/content/drive/MyDrive/Colab Notebooks/NN/hw4/dataset/indoor/*'#global path for indoor\n",
        "  img=[]#list of images in real size\n",
        "  label=[]#all label\n",
        "  #reading file and fill img in lable\n",
        "  for filename in glob.glob(outdoor_path):\n",
        "    img.append(np.array(Image.open(filename)))\n",
        "    label.append(0)\n",
        "  for filename in glob.glob(indoor_path):\n",
        "    img.append(np.array(Image.open(filename)))\n",
        "    label.append(1)\n",
        "  img=np.array(img)#change list to numpy array\n",
        "  label=np.array(label)#change to numpy array\n",
        "  x_shape=[img[i].shape[0] for i in range(len(img))]#list of x shape of images\n",
        "  y_shape=[img[i].shape[1] for i in range(len(img))]#list of y shape of images\n",
        "  median_x=int(median(x_shape))-150#find median in x cordinate and minus 150 (beacuse I recive memory error with median in fiting network)\n",
        "  median_y=int(median(y_shape))-150#find median in x cordinate and minus 150 \n",
        "  print('x_shape and y_shape of one images')\n",
        "  print(median_x,median_y)\n",
        "  resize_img=[]#resize images and save that in this list\n",
        "  for k in range(len(img)):\n",
        "    resize_img.append(np.array(cv2.resize(img[k],(median_y,median_x))))\n",
        "  resize_img=np.asarray(resize_img)\n",
        "  return resize_img,label,median_x,median_y"
      ],
      "execution_count": null,
      "outputs": []
    },
    {
      "cell_type": "code",
      "metadata": {
        "colab": {
          "base_uri": "https://localhost:8080/"
        },
        "id": "iNX3eeTjBDWt",
        "outputId": "029e7ee6-d4e7-4e6d-9754-edfbf5816cda"
      },
      "source": [
        "img,label,shape_x,shape_y=load_file()#list of images and their label"
      ],
      "execution_count": null,
      "outputs": [
        {
          "output_type": "stream",
          "text": [
            "/usr/local/lib/python3.7/dist-packages/ipykernel_launcher.py:13: VisibleDeprecationWarning: Creating an ndarray from ragged nested sequences (which is a list-or-tuple of lists-or-tuples-or ndarrays with different lengths or shapes) is deprecated. If you meant to do this, you must specify 'dtype=object' when creating the ndarray\n",
            "  del sys.path[0]\n"
          ],
          "name": "stderr"
        },
        {
          "output_type": "stream",
          "text": [
            "x_shape and y_shape of one images\n",
            "257 316\n"
          ],
          "name": "stdout"
        }
      ]
    },
    {
      "cell_type": "code",
      "metadata": {
        "colab": {
          "base_uri": "https://localhost:8080/"
        },
        "id": "N4Qt45p-Qo4T",
        "outputId": "d9807a88-b0bc-4bf4-f067-f22dabf12470"
      },
      "source": [
        "img.shape"
      ],
      "execution_count": null,
      "outputs": [
        {
          "output_type": "execute_result",
          "data": {
            "text/plain": [
              "(800, 257, 316, 3)"
            ]
          },
          "metadata": {
            "tags": []
          },
          "execution_count": 21
        }
      ]
    },
    {
      "cell_type": "code",
      "metadata": {
        "id": "Q8qahBcuxG35"
      },
      "source": [
        "#spliting train and test and valid test\n",
        "#X_testing_data,_,y_testing_data,_=train_test_split(img, label, test_size=0.35, random_state=42)\n",
        "#X_train, X_test, y_train, y_test = train_test_split(X_testing_data, y_testing_data, test_size=0.3, random_state=42)\n",
        "#X_valid, X_test, y_valid, y_test = train_test_split(X_test, y_test, test_size=0.33, random_state=42)\n",
        "X_train, X_remain, y_train, y_remain = train_test_split(img, label, test_size=0.3, random_state=42)\n",
        "X_valid, X_test, y_valid, y_test = train_test_split(X_remain, y_remain, test_size=0.33, random_state=42)"
      ],
      "execution_count": null,
      "outputs": []
    },
    {
      "cell_type": "code",
      "metadata": {
        "colab": {
          "base_uri": "https://localhost:8080/"
        },
        "id": "WuDmpyVCA-8l",
        "outputId": "1f25c6b9-72ad-4f84-e1bc-badca32456be"
      },
      "source": [
        "len(X_train)"
      ],
      "execution_count": null,
      "outputs": [
        {
          "output_type": "execute_result",
          "data": {
            "text/plain": [
              "364"
            ]
          },
          "metadata": {
            "tags": []
          },
          "execution_count": 36
        }
      ]
    },
    {
      "cell_type": "markdown",
      "metadata": {
        "id": "2aX4QHp9vtok"
      },
      "source": [
        "#ResNet"
      ]
    },
    {
      "cell_type": "code",
      "metadata": {
        "id": "RVVXHTNSvfnG"
      },
      "source": [
        "res_based_model=keras.applications.ResNet152(\n",
        "    include_top=False,\n",
        "    weights=\"imagenet\",\n",
        "    input_tensor=None,\n",
        "    input_shape=(shape_x,shape_y,3),\n",
        "    pooling=None,\n",
        ")\n",
        "res_based_model.trainable=False"
      ],
      "execution_count": null,
      "outputs": []
    },
    {
      "cell_type": "code",
      "metadata": {
        "id": "0IE8kTQ0vfks"
      },
      "source": [
        "model_res=keras.models.Sequential()\n",
        "model_res.add(res_based_model)\n",
        "model_res.add(keras.layers.Flatten())\n",
        "model_res.add(keras.layers.Dense(512,activation='relu'))\n",
        "model_res.add(keras.layers.Dense(2,activation='softmax'))\n",
        "layer=model_res.layers[0]\n",
        "layer.trainable=False"
      ],
      "execution_count": null,
      "outputs": []
    },
    {
      "cell_type": "code",
      "metadata": {
        "colab": {
          "base_uri": "https://localhost:8080/"
        },
        "id": "6sV-Orkwvfh-",
        "outputId": "816b7c0b-ac44-4850-b775-d606fcb5d1f1"
      },
      "source": [
        "%rm -rf './logs'\n",
        "tb_callback=keras.callbacks.TensorBoard(log_dir=\"./logs\",histogram_freq=1)\n",
        "model_res.compile(optimizer=keras.optimizers.Adam(learning_rate=0.0001),\n",
        "              loss=keras.losses.SparseCategoricalCrossentropy(True),\n",
        "              metrics=['accuracy'])\n",
        "es_callback=EarlyStoppingCallback(patience=5)\n",
        "model_res.fit(X_train, y_train, validation_data=(X_valid, y_valid), epochs=300, callbacks=(tb_callback,es_callback))"
      ],
      "execution_count": null,
      "outputs": [
        {
          "output_type": "stream",
          "text": [
            "/usr/local/lib/python3.7/dist-packages/tensorflow/python/keras/utils/generic_utils.py:497: CustomMaskWarning: Custom mask layers require a config and must override get_config. When loading, the custom mask layer must be passed to the custom_objects argument.\n",
            "  category=CustomMaskWarning)\n"
          ],
          "name": "stderr"
        },
        {
          "output_type": "stream",
          "text": [
            "Epoch 1/300\n"
          ],
          "name": "stdout"
        },
        {
          "output_type": "stream",
          "text": [
            "/usr/local/lib/python3.7/dist-packages/tensorflow/python/keras/backend.py:4930: UserWarning: \"`sparse_categorical_crossentropy` received `from_logits=True`, but the `output` argument was produced by a sigmoid or softmax activation and thus does not represent logits. Was this intended?\"\n",
            "  '\"`sparse_categorical_crossentropy` received `from_logits=True`, but '\n"
          ],
          "name": "stderr"
        },
        {
          "output_type": "stream",
          "text": [
            "18/18 [==============================] - 23s 849ms/step - loss: 1.6074 - accuracy: 0.8554 - val_loss: 0.1605 - val_accuracy: 0.9750\n",
            "Epoch 2/300\n",
            "18/18 [==============================] - 10s 564ms/step - loss: 0.1164 - accuracy: 0.9696 - val_loss: 0.1105 - val_accuracy: 0.9688\n",
            "Epoch 3/300\n",
            "18/18 [==============================] - 10s 562ms/step - loss: 0.0151 - accuracy: 0.9946 - val_loss: 0.4709 - val_accuracy: 0.9563\n",
            "\n",
            "wait mode, step: 1\n",
            "Epoch 4/300\n",
            "18/18 [==============================] - 10s 551ms/step - loss: 0.0066 - accuracy: 0.9982 - val_loss: 0.2659 - val_accuracy: 0.9750\n",
            "\n",
            "wait mode, step: 2\n",
            "Epoch 5/300\n",
            "18/18 [==============================] - 10s 547ms/step - loss: 4.5016e-04 - accuracy: 1.0000 - val_loss: 0.2323 - val_accuracy: 0.9750\n",
            "\n",
            "wait mode, step: 3\n",
            "Epoch 6/300\n",
            "18/18 [==============================] - 10s 568ms/step - loss: 1.7832e-05 - accuracy: 1.0000 - val_loss: 0.2338 - val_accuracy: 0.9750\n",
            "\n",
            "wait mode, step: 4\n",
            "Epoch 7/300\n",
            "18/18 [==============================] - 10s 539ms/step - loss: 1.0632e-05 - accuracy: 1.0000 - val_loss: 0.2345 - val_accuracy: 0.9812\n",
            "\n",
            "wait mode, step: 5\n",
            "epoch: 6 : early stopping.\n"
          ],
          "name": "stdout"
        },
        {
          "output_type": "execute_result",
          "data": {
            "text/plain": [
              "<tensorflow.python.keras.callbacks.History at 0x7f0ae7eb7190>"
            ]
          },
          "metadata": {
            "tags": []
          },
          "execution_count": 123
        }
      ]
    },
    {
      "cell_type": "code",
      "metadata": {
        "colab": {
          "base_uri": "https://localhost:8080/"
        },
        "id": "Ji_4KiLBzgN1",
        "outputId": "c41838d9-8a29-44eb-9e5d-2b73186b4d7b"
      },
      "source": [
        "pred=np.argmax(model_res.predict(X_test),axis=1)\n",
        "print('accuracy of test for model with fix resnet weight==>%.4f'% accuracy_score(y_test,pred))\n",
        "print('confusion matrix of test for model with fix resnet weight==>\\n', confusion_matrix(y_test,pred))"
      ],
      "execution_count": null,
      "outputs": [
        {
          "output_type": "stream",
          "text": [
            "accuracy of test for model with fix resnet weight==>0.9625\n",
            "confusion matrix of test for model with fix resnet weight==>\n",
            " [[42  0]\n",
            " [ 3 35]]\n"
          ],
          "name": "stdout"
        }
      ]
    },
    {
      "cell_type": "markdown",
      "metadata": {
        "id": "l4ENtbZc5Ayk"
      },
      "source": [
        "#fine tune in feature part"
      ]
    },
    {
      "cell_type": "code",
      "metadata": {
        "id": "2rQDzISM5GgH"
      },
      "source": [
        "for layer in res_based_model.layers[:-50]:\n",
        "    layer.trainable = False\n",
        "for layer in res_based_model.layers[-50:]:\n",
        "    layer.trainable = True\n"
      ],
      "execution_count": null,
      "outputs": []
    },
    {
      "cell_type": "code",
      "metadata": {
        "id": "d_Sx-lC05XXA"
      },
      "source": [
        "model_res_2=keras.models.Sequential()\n",
        "model_res_2.add(res_based_model)\n",
        "for i in range(1,len(model_res.layers)):\n",
        "  model_res_2.add(model_res.layers[i])"
      ],
      "execution_count": null,
      "outputs": []
    },
    {
      "cell_type": "code",
      "metadata": {
        "id": "cicHCm9QH4eT"
      },
      "source": [
        "model_res_2.compile(optimizer=keras.optimizers.Adam(learning_rate=0.0001),\n",
        "              loss=keras.losses.SparseCategoricalCrossentropy(True),\n",
        "              metrics=['accuracy'])"
      ],
      "execution_count": null,
      "outputs": []
    },
    {
      "cell_type": "code",
      "metadata": {
        "id": "ZS1KRD1eIHGd"
      },
      "source": [
        "%rm -rf './logs'\n",
        "tb_callback=keras.callbacks.TensorBoard(log_dir=\"./logs\",histogram_freq=1)"
      ],
      "execution_count": null,
      "outputs": []
    },
    {
      "cell_type": "code",
      "metadata": {
        "colab": {
          "base_uri": "https://localhost:8080/"
        },
        "id": "kr0iFhqe5kfI",
        "outputId": "fdc4e9e8-e0e4-4150-c979-411eedcbfbe1"
      },
      "source": [
        "es_callback=EarlyStoppingCallback(patience=5)\n",
        "model_res_2.fit(X_train, y_train, validation_data=(X_valid, y_valid), epochs=300, callbacks=(tb_callback,es_callback))"
      ],
      "execution_count": null,
      "outputs": [
        {
          "output_type": "stream",
          "text": [
            "/usr/local/lib/python3.7/dist-packages/tensorflow/python/keras/utils/generic_utils.py:497: CustomMaskWarning: Custom mask layers require a config and must override get_config. When loading, the custom mask layer must be passed to the custom_objects argument.\n",
            "  category=CustomMaskWarning)\n"
          ],
          "name": "stderr"
        },
        {
          "output_type": "stream",
          "text": [
            "Epoch 1/300\n"
          ],
          "name": "stdout"
        },
        {
          "output_type": "stream",
          "text": [
            "/usr/local/lib/python3.7/dist-packages/tensorflow/python/keras/backend.py:4930: UserWarning: \"`sparse_categorical_crossentropy` received `from_logits=True`, but the `output` argument was produced by a sigmoid or softmax activation and thus does not represent logits. Was this intended?\"\n",
            "  '\"`sparse_categorical_crossentropy` received `from_logits=True`, but '\n"
          ],
          "name": "stderr"
        },
        {
          "output_type": "stream",
          "text": [
            "18/18 [==============================] - 22s 809ms/step - loss: 0.2509 - accuracy: 0.9661 - val_loss: 0.9593 - val_accuracy: 0.9312\n",
            "Epoch 2/300\n",
            "18/18 [==============================] - 10s 547ms/step - loss: 0.0465 - accuracy: 0.9875 - val_loss: 0.6156 - val_accuracy: 0.9500\n",
            "Epoch 3/300\n",
            "18/18 [==============================] - 10s 570ms/step - loss: 0.0110 - accuracy: 0.9982 - val_loss: 0.5576 - val_accuracy: 0.9750\n",
            "Epoch 4/300\n",
            "18/18 [==============================] - 10s 572ms/step - loss: 1.7221e-07 - accuracy: 1.0000 - val_loss: 0.6126 - val_accuracy: 0.9625\n",
            "\n",
            "wait mode, step: 1\n",
            "Epoch 5/300\n",
            "18/18 [==============================] - 10s 551ms/step - loss: 2.0137e-07 - accuracy: 1.0000 - val_loss: 0.5706 - val_accuracy: 0.9625\n",
            "\n",
            "wait mode, step: 2\n",
            "Epoch 6/300\n",
            "18/18 [==============================] - 10s 572ms/step - loss: 1.1580e-07 - accuracy: 1.0000 - val_loss: 0.5252 - val_accuracy: 0.9625\n",
            "Epoch 7/300\n",
            "18/18 [==============================] - 10s 571ms/step - loss: 2.2565e-08 - accuracy: 1.0000 - val_loss: 0.4880 - val_accuracy: 0.9625\n",
            "Epoch 8/300\n",
            "18/18 [==============================] - 10s 550ms/step - loss: 2.3416e-09 - accuracy: 1.0000 - val_loss: 0.4656 - val_accuracy: 0.9688\n",
            "Epoch 9/300\n",
            "18/18 [==============================] - 10s 573ms/step - loss: 2.3734e-07 - accuracy: 1.0000 - val_loss: 0.4304 - val_accuracy: 0.9688\n",
            "Epoch 10/300\n",
            "18/18 [==============================] - 10s 546ms/step - loss: 3.1077e-07 - accuracy: 1.0000 - val_loss: 0.4190 - val_accuracy: 0.9688\n",
            "Epoch 11/300\n",
            "18/18 [==============================] - 10s 547ms/step - loss: 2.0520e-07 - accuracy: 1.0000 - val_loss: 0.4287 - val_accuracy: 0.9688\n",
            "\n",
            "wait mode, step: 1\n",
            "Epoch 12/300\n",
            "18/18 [==============================] - 10s 574ms/step - loss: 5.3005e-08 - accuracy: 1.0000 - val_loss: 0.4038 - val_accuracy: 0.9688\n",
            "Epoch 13/300\n",
            "18/18 [==============================] - 10s 571ms/step - loss: 2.5545e-09 - accuracy: 1.0000 - val_loss: 0.3816 - val_accuracy: 0.9688\n",
            "Epoch 14/300\n",
            "18/18 [==============================] - 10s 546ms/step - loss: 2.1287e-10 - accuracy: 1.0000 - val_loss: 0.3724 - val_accuracy: 0.9750\n",
            "Epoch 15/300\n",
            "18/18 [==============================] - 10s 574ms/step - loss: 3.6189e-09 - accuracy: 1.0000 - val_loss: 0.3679 - val_accuracy: 0.9688\n",
            "Epoch 16/300\n",
            "18/18 [==============================] - 10s 573ms/step - loss: 1.1282e-08 - accuracy: 1.0000 - val_loss: 0.3625 - val_accuracy: 0.9688\n",
            "Epoch 17/300\n",
            "18/18 [==============================] - 10s 573ms/step - loss: 1.7030e-09 - accuracy: 1.0000 - val_loss: 0.3595 - val_accuracy: 0.9688\n",
            "Epoch 18/300\n",
            "18/18 [==============================] - 10s 572ms/step - loss: 4.4703e-09 - accuracy: 1.0000 - val_loss: 0.3527 - val_accuracy: 0.9688\n",
            "Epoch 19/300\n",
            "18/18 [==============================] - 10s 548ms/step - loss: 4.6039e-07 - accuracy: 1.0000 - val_loss: 0.3203 - val_accuracy: 0.9812\n",
            "Epoch 20/300\n",
            "18/18 [==============================] - 10s 546ms/step - loss: 5.4921e-08 - accuracy: 1.0000 - val_loss: 0.3104 - val_accuracy: 0.9812\n",
            "Epoch 21/300\n",
            "18/18 [==============================] - 10s 572ms/step - loss: 1.2772e-09 - accuracy: 1.0000 - val_loss: 0.3093 - val_accuracy: 0.9812\n",
            "Epoch 22/300\n",
            "18/18 [==============================] - 10s 546ms/step - loss: 1.2347e-08 - accuracy: 1.0000 - val_loss: 0.3048 - val_accuracy: 0.9812\n",
            "Epoch 23/300\n",
            "18/18 [==============================] - 10s 573ms/step - loss: 5.9605e-09 - accuracy: 1.0000 - val_loss: 0.3022 - val_accuracy: 0.9812\n",
            "Epoch 24/300\n",
            "18/18 [==============================] - 10s 572ms/step - loss: 1.7030e-09 - accuracy: 1.0000 - val_loss: 0.3009 - val_accuracy: 0.9812\n",
            "Epoch 25/300\n",
            "18/18 [==============================] - 10s 574ms/step - loss: 2.1287e-09 - accuracy: 1.0000 - val_loss: 0.3002 - val_accuracy: 0.9812\n",
            "Epoch 26/300\n",
            "18/18 [==============================] - 10s 573ms/step - loss: 5.7476e-09 - accuracy: 1.0000 - val_loss: 0.3014 - val_accuracy: 0.9812\n",
            "\n",
            "wait mode, step: 1\n",
            "Epoch 27/300\n",
            "18/18 [==============================] - 10s 545ms/step - loss: 2.8525e-08 - accuracy: 1.0000 - val_loss: 0.2862 - val_accuracy: 0.9812\n",
            "Epoch 28/300\n",
            "18/18 [==============================] - 10s 572ms/step - loss: 0.0000e+00 - accuracy: 1.0000 - val_loss: 0.2821 - val_accuracy: 0.9812\n",
            "Epoch 29/300\n",
            "18/18 [==============================] - 10s 572ms/step - loss: 2.1287e-10 - accuracy: 1.0000 - val_loss: 0.2813 - val_accuracy: 0.9812\n",
            "Epoch 30/300\n",
            "18/18 [==============================] - 10s 574ms/step - loss: 2.5545e-09 - accuracy: 1.0000 - val_loss: 0.2822 - val_accuracy: 0.9812\n",
            "\n",
            "wait mode, step: 1\n",
            "Epoch 31/300\n",
            "18/18 [==============================] - 10s 546ms/step - loss: 1.2772e-09 - accuracy: 1.0000 - val_loss: 0.2811 - val_accuracy: 0.9812\n",
            "Epoch 32/300\n",
            "18/18 [==============================] - 10s 572ms/step - loss: 4.4703e-09 - accuracy: 1.0000 - val_loss: 0.2804 - val_accuracy: 0.9812\n",
            "Epoch 33/300\n",
            "18/18 [==============================] - 10s 573ms/step - loss: 4.3851e-08 - accuracy: 1.0000 - val_loss: 0.2863 - val_accuracy: 0.9812\n",
            "\n",
            "wait mode, step: 1\n",
            "Epoch 34/300\n",
            "18/18 [==============================] - 10s 546ms/step - loss: 1.0644e-09 - accuracy: 1.0000 - val_loss: 0.2950 - val_accuracy: 0.9812\n",
            "\n",
            "wait mode, step: 2\n",
            "Epoch 35/300\n",
            "18/18 [==============================] - 10s 547ms/step - loss: 4.2575e-09 - accuracy: 1.0000 - val_loss: 0.2983 - val_accuracy: 0.9812\n",
            "\n",
            "wait mode, step: 3\n",
            "Epoch 36/300\n",
            "18/18 [==============================] - 10s 572ms/step - loss: 0.0000e+00 - accuracy: 1.0000 - val_loss: 0.2997 - val_accuracy: 0.9812\n",
            "\n",
            "wait mode, step: 4\n",
            "Epoch 37/300\n",
            "18/18 [==============================] - 10s 573ms/step - loss: 3.4060e-09 - accuracy: 1.0000 - val_loss: 0.3017 - val_accuracy: 0.9812\n",
            "\n",
            "wait mode, step: 5\n",
            "epoch: 36 : early stopping.\n"
          ],
          "name": "stdout"
        },
        {
          "output_type": "execute_result",
          "data": {
            "text/plain": [
              "<tensorflow.python.keras.callbacks.History at 0x7f0ad2705150>"
            ]
          },
          "metadata": {
            "tags": []
          },
          "execution_count": 129
        }
      ]
    },
    {
      "cell_type": "code",
      "metadata": {
        "id": "KemfpOGp5pX_"
      },
      "source": [
        "%tensorboard --logdir \"./logs\""
      ],
      "execution_count": null,
      "outputs": []
    },
    {
      "cell_type": "code",
      "metadata": {
        "id": "5eZrroTU5q8Z",
        "colab": {
          "base_uri": "https://localhost:8080/"
        },
        "outputId": "0e44b2e6-bad3-46de-aaa8-ebc3b441ee80"
      },
      "source": [
        "pred=np.argmax(model_res_2.predict(X_test),axis=1)\n",
        "print('accuracy of test for model with finetuen resnet weight==>%.4f'% accuracy_score(y_test,pred))\n",
        "print('confusion matrix of test for model with finetuen resnet weight==>\\n', confusion_matrix(y_test,pred))"
      ],
      "execution_count": null,
      "outputs": [
        {
          "output_type": "stream",
          "text": [
            "accuracy of test for model with finetuen resnet weight==>0.9750\n",
            "confusion matrix of test for model with finetuen resnet weight==>\n",
            " [[42  0]\n",
            " [ 2 36]]\n"
          ],
          "name": "stdout"
        }
      ]
    },
    {
      "cell_type": "markdown",
      "metadata": {
        "id": "aiEn6BsRvpl0"
      },
      "source": [
        "#DenseNet"
      ]
    },
    {
      "cell_type": "code",
      "metadata": {
        "id": "7FSnW5KquVk8"
      },
      "source": [
        "dense_based_model=keras.applications.DenseNet201(\n",
        "    include_top=False,\n",
        "    weights=\"imagenet\",\n",
        "    input_shape=(shape_x,shape_y,3),\n",
        "    pooling=None,\n",
        ")\n",
        "dense_based_model.trainable=False"
      ],
      "execution_count": null,
      "outputs": []
    },
    {
      "cell_type": "code",
      "metadata": {
        "id": "NtJ7NbGBzYUo"
      },
      "source": [
        "model_dense=keras.models.Sequential()\n",
        "model_dense.add(dense_based_model)\n",
        "model_dense.add(keras.layers.Flatten())\n",
        "model_res.add(keras.layers.Dense(256,activation='relu'))\n",
        "model_res.add(keras.layers.Dense(128,activation='relu'))\n",
        "model_dense.add(keras.layers.Dense(2,activation='softmax'))\n",
        "layer=model_res.layers[0]\n",
        "layer.trainable=False"
      ],
      "execution_count": null,
      "outputs": []
    },
    {
      "cell_type": "code",
      "metadata": {
        "id": "DGDH4t530_0g"
      },
      "source": [
        "%rm -rf './logs'\n",
        "tb_callback=keras.callbacks.TensorBoard(log_dir=\"./logs\",histogram_freq=1)"
      ],
      "execution_count": null,
      "outputs": []
    },
    {
      "cell_type": "code",
      "metadata": {
        "id": "TpcWe71SXmPC"
      },
      "source": [
        "model_dense.compile(optimizer=keras.optimizers.Adam(learning_rate=0.0001),\n",
        "              loss=keras.losses.SparseCategoricalCrossentropy(True),\n",
        "              metrics=['accuracy'])\n",
        "es_callback=EarlyStoppingCallback(patience=5)"
      ],
      "execution_count": null,
      "outputs": []
    },
    {
      "cell_type": "code",
      "metadata": {
        "colab": {
          "base_uri": "https://localhost:8080/"
        },
        "id": "wSPo1DCzXkKA",
        "outputId": "df771102-44c0-4d01-a818-0df23437c1b8"
      },
      "source": [
        "model_dense.fit(X_train, y_train, validation_data=(X_valid, y_valid), epochs=300, callbacks=(tb_callback,es_callback))"
      ],
      "execution_count": null,
      "outputs": [
        {
          "output_type": "stream",
          "text": [
            "Epoch 1/300\n"
          ],
          "name": "stdout"
        },
        {
          "output_type": "stream",
          "text": [
            "/usr/local/lib/python3.7/dist-packages/tensorflow/python/keras/backend.py:4930: UserWarning: \"`sparse_categorical_crossentropy` received `from_logits=True`, but the `output` argument was produced by a sigmoid or softmax activation and thus does not represent logits. Was this intended?\"\n",
            "  '\"`sparse_categorical_crossentropy` received `from_logits=True`, but '\n"
          ],
          "name": "stderr"
        },
        {
          "output_type": "stream",
          "text": [
            " 6/18 [=========>....................] - ETA: 7s - loss: 2.7408 - accuracy: 0.5573WARNING:tensorflow:Callback method `on_train_batch_end` is slow compared to the batch time (batch time: 0.2177s vs `on_train_batch_end` time: 0.2790s). Check your callbacks.\n",
            "18/18 [==============================] - 23s 778ms/step - loss: 1.7675 - accuracy: 0.7179 - val_loss: 0.4254 - val_accuracy: 0.9000\n",
            "Epoch 2/300\n",
            "18/18 [==============================] - 5s 299ms/step - loss: 0.4529 - accuracy: 0.9089 - val_loss: 0.9141 - val_accuracy: 0.8625\n",
            "\n",
            "wait mode, step: 1\n",
            "Epoch 3/300\n",
            "18/18 [==============================] - 5s 297ms/step - loss: 0.2449 - accuracy: 0.9321 - val_loss: 0.9411 - val_accuracy: 0.8875\n",
            "\n",
            "wait mode, step: 2\n",
            "Epoch 4/300\n",
            "18/18 [==============================] - 5s 293ms/step - loss: 0.0834 - accuracy: 0.9750 - val_loss: 0.3579 - val_accuracy: 0.9125\n",
            "Epoch 5/300\n",
            "18/18 [==============================] - 5s 279ms/step - loss: 0.0134 - accuracy: 0.9964 - val_loss: 0.5394 - val_accuracy: 0.9062\n",
            "\n",
            "wait mode, step: 1\n",
            "Epoch 6/300\n",
            "18/18 [==============================] - 5s 289ms/step - loss: 0.0046 - accuracy: 1.0000 - val_loss: 0.2931 - val_accuracy: 0.9125\n",
            "Epoch 7/300\n",
            "18/18 [==============================] - 5s 288ms/step - loss: 0.0019 - accuracy: 1.0000 - val_loss: 0.3240 - val_accuracy: 0.9187\n",
            "\n",
            "wait mode, step: 1\n",
            "Epoch 8/300\n",
            "18/18 [==============================] - 5s 275ms/step - loss: 0.0011 - accuracy: 1.0000 - val_loss: 0.3462 - val_accuracy: 0.9187\n",
            "\n",
            "wait mode, step: 2\n",
            "Epoch 9/300\n",
            "18/18 [==============================] - 5s 276ms/step - loss: 9.5004e-04 - accuracy: 1.0000 - val_loss: 0.3338 - val_accuracy: 0.9187\n",
            "\n",
            "wait mode, step: 3\n",
            "Epoch 10/300\n",
            "18/18 [==============================] - 5s 277ms/step - loss: 8.2253e-04 - accuracy: 1.0000 - val_loss: 0.3347 - val_accuracy: 0.9187\n",
            "\n",
            "wait mode, step: 4\n",
            "Epoch 11/300\n",
            "18/18 [==============================] - 5s 290ms/step - loss: 7.5693e-04 - accuracy: 1.0000 - val_loss: 0.3324 - val_accuracy: 0.9187\n",
            "\n",
            "wait mode, step: 5\n",
            "epoch: 10 : early stopping.\n"
          ],
          "name": "stdout"
        },
        {
          "output_type": "execute_result",
          "data": {
            "text/plain": [
              "<tensorflow.python.keras.callbacks.History at 0x7f0acd24d610>"
            ]
          },
          "metadata": {
            "tags": []
          },
          "execution_count": 135
        }
      ]
    },
    {
      "cell_type": "code",
      "metadata": {
        "id": "c-kj9S5xfFab"
      },
      "source": [
        "%tensorboard --logdir \"./logs\""
      ],
      "execution_count": null,
      "outputs": []
    },
    {
      "cell_type": "code",
      "metadata": {
        "colab": {
          "base_uri": "https://localhost:8080/"
        },
        "id": "17LhNmawl9vt",
        "outputId": "ce86919f-86d4-4f1d-edf5-e7ff88f4a859"
      },
      "source": [
        "pred=np.argmax(model_dense.predict(X_test),axis=1)\n",
        "print('accuracy of test for model with fix densenet weight==>%.4f'% accuracy_score(y_test,pred))\n",
        "print('confusion matrix of test for model with fix densenet weight==>\\n', confusion_matrix(y_test,pred))"
      ],
      "execution_count": null,
      "outputs": [
        {
          "output_type": "stream",
          "text": [
            "accuracy of test for model with fix densenet weight==>0.8375\n",
            "confusion matrix of test for model with fix densenet weight==>\n",
            " [[36  6]\n",
            " [ 7 31]]\n"
          ],
          "name": "stdout"
        }
      ]
    },
    {
      "cell_type": "markdown",
      "metadata": {
        "id": "3cOYvehDtLxO"
      },
      "source": [
        "#Fine tuning"
      ]
    },
    {
      "cell_type": "code",
      "metadata": {
        "id": "0V0NzTz3gCrr"
      },
      "source": [
        "for layer in dense_based_model.layers[:-200]:\n",
        "    layer.trainable = False\n",
        "for layer in dense_based_model.layers[-200:]:\n",
        "    layer.trainable = True"
      ],
      "execution_count": null,
      "outputs": []
    },
    {
      "cell_type": "code",
      "metadata": {
        "id": "uGs-HZcck_v9"
      },
      "source": [
        "model_dense_2=keras.models.Sequential()\n",
        "model_dense_2.add(dense_based_model)\n",
        "for i in range(1,len(model_dense.layers)):\n",
        "  model_dense_2.add(model_dense.layers[i])"
      ],
      "execution_count": null,
      "outputs": []
    },
    {
      "cell_type": "code",
      "metadata": {
        "id": "crA606r1gOLE"
      },
      "source": [
        "%rm -rf './logs'\n",
        "tb_callback=keras.callbacks.TensorBoard(log_dir=\"./logs\",histogram_freq=1)"
      ],
      "execution_count": null,
      "outputs": []
    },
    {
      "cell_type": "code",
      "metadata": {
        "colab": {
          "base_uri": "https://localhost:8080/"
        },
        "id": "msrxI8AHgOvL",
        "outputId": "0e39bd1f-d08b-45de-a371-d05be6120512"
      },
      "source": [
        "model_dense_2.compile(optimizer=keras.optimizers.Adam(learning_rate=0.0001),\n",
        "              loss=keras.losses.SparseCategoricalCrossentropy(True),\n",
        "              metrics=['accuracy'])\n",
        "es_callback=EarlyStoppingCallback(patience=5)\n",
        "model_dense_2.fit(X_train, y_train, validation_data=(X_valid, y_valid), epochs=300, callbacks=(tb_callback,es_callback))"
      ],
      "execution_count": null,
      "outputs": [
        {
          "output_type": "stream",
          "text": [
            "Epoch 1/300\n"
          ],
          "name": "stdout"
        },
        {
          "output_type": "stream",
          "text": [
            "/usr/local/lib/python3.7/dist-packages/tensorflow/python/keras/backend.py:4930: UserWarning: \"`sparse_categorical_crossentropy` received `from_logits=True`, but the `output` argument was produced by a sigmoid or softmax activation and thus does not represent logits. Was this intended?\"\n",
            "  '\"`sparse_categorical_crossentropy` received `from_logits=True`, but '\n"
          ],
          "name": "stderr"
        },
        {
          "output_type": "stream",
          "text": [
            " 6/18 [=========>....................] - ETA: 7s - loss: 0.5314 - accuracy: 0.7812WARNING:tensorflow:Callback method `on_train_batch_end` is slow compared to the batch time (batch time: 0.2191s vs `on_train_batch_end` time: 0.2855s). Check your callbacks.\n",
            "18/18 [==============================] - 19s 563ms/step - loss: 0.3033 - accuracy: 0.8679 - val_loss: 0.4209 - val_accuracy: 0.8750\n",
            "Epoch 2/300\n",
            "18/18 [==============================] - 5s 298ms/step - loss: 0.0727 - accuracy: 0.9750 - val_loss: 0.2332 - val_accuracy: 0.9062\n",
            "Epoch 3/300\n",
            "18/18 [==============================] - 5s 302ms/step - loss: 0.0377 - accuracy: 0.9911 - val_loss: 0.1994 - val_accuracy: 0.9062\n",
            "Epoch 4/300\n",
            "18/18 [==============================] - 5s 293ms/step - loss: 0.0246 - accuracy: 0.9982 - val_loss: 0.2421 - val_accuracy: 0.9125\n",
            "\n",
            "wait mode, step: 1\n",
            "Epoch 5/300\n",
            "18/18 [==============================] - 5s 289ms/step - loss: 0.0142 - accuracy: 0.9982 - val_loss: 0.2342 - val_accuracy: 0.9062\n",
            "\n",
            "wait mode, step: 2\n",
            "Epoch 6/300\n",
            "18/18 [==============================] - 5s 297ms/step - loss: 0.0115 - accuracy: 0.9982 - val_loss: 0.2816 - val_accuracy: 0.9000\n",
            "\n",
            "wait mode, step: 3\n",
            "Epoch 7/300\n",
            "18/18 [==============================] - 5s 295ms/step - loss: 0.0137 - accuracy: 1.0000 - val_loss: 0.3450 - val_accuracy: 0.8687\n",
            "\n",
            "wait mode, step: 4\n",
            "Epoch 8/300\n",
            "18/18 [==============================] - 5s 281ms/step - loss: 0.0137 - accuracy: 1.0000 - val_loss: 0.2161 - val_accuracy: 0.9187\n",
            "\n",
            "wait mode, step: 5\n",
            "epoch: 7 : early stopping.\n"
          ],
          "name": "stdout"
        },
        {
          "output_type": "execute_result",
          "data": {
            "text/plain": [
              "<tensorflow.python.keras.callbacks.History at 0x7f0ac92899d0>"
            ]
          },
          "metadata": {
            "tags": []
          },
          "execution_count": 140
        }
      ]
    },
    {
      "cell_type": "code",
      "metadata": {
        "id": "MWUXgM3Tl3yN"
      },
      "source": [
        "%tensorboard --logdir \"./logs\""
      ],
      "execution_count": null,
      "outputs": []
    },
    {
      "cell_type": "code",
      "metadata": {
        "colab": {
          "base_uri": "https://localhost:8080/"
        },
        "id": "EdHAg8Wno-7h",
        "outputId": "80870126-6b9f-4ae2-d0a7-36f7702b3b25"
      },
      "source": [
        "pred=np.argmax(model_dense_2.predict(X_test),axis=1)\n",
        "print('accuracy of test for model with finetune densenet weight==>%.4f'% accuracy_score(y_test,pred))\n",
        "print('confusion matrix of test for model with finetune densenet weight==>\\n', confusion_matrix(y_test,pred))"
      ],
      "execution_count": null,
      "outputs": [
        {
          "output_type": "stream",
          "text": [
            "accuracy of test for model with finetune densenet weight==>0.9375\n",
            "confusion matrix of test for model with finetune densenet weight==>\n",
            " [[40  2]\n",
            " [ 3 35]]\n"
          ],
          "name": "stdout"
        }
      ]
    },
    {
      "cell_type": "code",
      "metadata": {
        "id": "DcP_PNGSvdAc"
      },
      "source": [
        ""
      ],
      "execution_count": null,
      "outputs": []
    }
  ]
}