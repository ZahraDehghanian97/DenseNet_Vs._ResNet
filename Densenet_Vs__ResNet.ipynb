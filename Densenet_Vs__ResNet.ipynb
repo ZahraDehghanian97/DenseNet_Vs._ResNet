{
  "nbformat": 4,
  "nbformat_minor": 0,
  "metadata": {
    "colab": {
      "name": "Densenet_Vs._ResNet.ipynb",
      "provenance": [],
      "authorship_tag": "ABX9TyNvPhTPo6NAnpb4AfuStutu",
      "include_colab_link": true
    },
    "kernelspec": {
      "name": "python3",
      "display_name": "Python 3"
    },
    "language_info": {
      "name": "python"
    }
  },
  "cells": [
    {
      "cell_type": "markdown",
      "metadata": {
        "id": "view-in-github",
        "colab_type": "text"
      },
      "source": [
        "<a href=\"https://colab.research.google.com/github/zahraDehghanian97/DenseNet_Vs._ResNet/blob/master/Densenet_Vs__ResNet.ipynb\" target=\"_parent\"><img src=\"https://colab.research.google.com/assets/colab-badge.svg\" alt=\"Open In Colab\"/></a>"
      ]
    },
    {
      "cell_type": "markdown",
      "metadata": {
        "id": "YTSvl-QYjyo3"
      },
      "source": [
        "# **prerequisit**"
      ]
    },
    {
      "cell_type": "code",
      "metadata": {
        "id": "s3bPfRvshs1o"
      },
      "source": [
        "%tensorflow_version 2.x\n",
        "import tensorflow as tf\n",
        "from tensorflow import keras\n",
        "import numpy as np\n",
        "import matplotlib.pyplot as plt\n",
        "import random\n",
        "from sklearn.metrics import confusion_matrix, accuracy_score\n",
        "from sklearn import preprocessing\n",
        "from tensorflow.keras.preprocessing import image\n",
        "from keras.layers import Conv2D, MaxPool2D, Flatten, Dense, Input, GlobalAveragePooling2D, Dropout\n",
        "import glob\n",
        "from sklearn.model_selection import train_test_split\n",
        "from keras.models import Sequential"
      ],
      "execution_count": 79,
      "outputs": []
    },
    {
      "cell_type": "markdown",
      "metadata": {
        "id": "TWheA6CSj3ft"
      },
      "source": [
        "# **Mount google drive**"
      ]
    },
    {
      "cell_type": "code",
      "metadata": {
        "colab": {
          "base_uri": "https://localhost:8080/"
        },
        "id": "9r3444wwj6Mr",
        "outputId": "0040e9fa-d515-4781-e864-a3cdacc78bdc"
      },
      "source": [
        "from google.colab import drive\n",
        "drive.mount('/content/drive')"
      ],
      "execution_count": 40,
      "outputs": [
        {
          "output_type": "stream",
          "text": [
            "Drive already mounted at /content/drive; to attempt to forcibly remount, call drive.mount(\"/content/drive\", force_remount=True).\n"
          ],
          "name": "stdout"
        }
      ]
    },
    {
      "cell_type": "markdown",
      "metadata": {
        "id": "fjMMgNOLkSzX"
      },
      "source": [
        "# **Make dataset ready**"
      ]
    },
    {
      "cell_type": "code",
      "metadata": {
        "colab": {
          "base_uri": "https://localhost:8080/"
        },
        "id": "97QoNMEWkXoZ",
        "outputId": "42537721-790e-4aac-9340-1c9931b85a68"
      },
      "source": [
        "def load_photos(type,dir_name):\n",
        "    photo_list =[]\n",
        "    y = []\n",
        "    for file_name in (glob.glob(dir_name+'/*')):\n",
        "        img = image.load_img(file_name, target_size=input_size)\n",
        "        photo_list.append(img)\n",
        "        y.append(type)\n",
        "    return photo_list , y \n",
        "  \n",
        "    \n",
        "input_size = (128,128)\n",
        "input_shape = (128,128,3)\n",
        "dir_name_indoor = \"/content/drive/MyDrive/Colab Notebooks/indoor1\"\n",
        "dir_name_outdoor = \"/content/drive/MyDrive/Colab Notebooks/outdoor1\"\n",
        "X1 , y1= load_photos(0,dir_name_indoor) \n",
        "X2 , y2= load_photos(1,dir_name_outdoor) \n",
        "X1.extend(X2)\n",
        "y1.extend(y2)\n",
        "X_train, X_test, y_train, y_test = train_test_split(X1, y1, test_size=0.1, random_state=42)\n",
        "print(X1[0])\n",
        "print(len(y1))\n",
        "print(y_train)"
      ],
      "execution_count": 41,
      "outputs": [
        {
          "output_type": "stream",
          "text": [
            "<PIL.Image.Image image mode=RGB size=128x128 at 0x7FE0F8952890>\n",
            "4\n",
            "[1, 0, 1]\n"
          ],
          "name": "stdout"
        }
      ]
    },
    {
      "cell_type": "markdown",
      "metadata": {
        "id": "yBRdjt5g5FDD"
      },
      "source": [
        "# **ResNet**"
      ]
    },
    {
      "cell_type": "code",
      "metadata": {
        "colab": {
          "base_uri": "https://localhost:8080/"
        },
        "id": "xYvr1RCd5KJQ",
        "outputId": "a7f9b21a-7d20-4a8c-8a97-0adf4fcdb8df"
      },
      "source": [
        "keras.backend.clear_session()\n",
        "\n",
        "inputs = keras.Input(shape=input_shape)\n",
        "x = keras.applications.resnet.preprocess_input(inputs)\n",
        "base_model = keras.applications.ResNet152(include_top=False, weights=\"imagenet\",  input_shape=input_shape)\n",
        "base_model.trainable = False\n",
        "x = base_model(inputs) #(x)\n",
        "# x = GlobalAveragePooling2D()(x) \n",
        "x = Dense(1000, activation='ReLU')(x)\n",
        "x = Dense(250, activation='ReLU')(x)\n",
        "x = Dense(50, activation='ReLU')(x)\n",
        "x = Dense(10, activation='ReLU')(x)\n",
        "x = Dense(2, activation='softmax')(x)\n",
        "outputs = GlobalAveragePooling2D()(x) \n",
        "\n",
        "resnet_model = keras.Model(inputs, outputs)\n",
        "resnet_model.summary()\n",
        "\n"
      ],
      "execution_count": 89,
      "outputs": [
        {
          "output_type": "stream",
          "text": [
            "WARNING:tensorflow:\n",
            "The following Variables were used a Lambda layer's call (tf.tensordot), but\n",
            "are not present in its tracked objects:\n",
            "  <tf.Variable 'dense/kernel:0' shape=(2048, 1000) dtype=float32>\n",
            "It is possible that this is intended behavior, but it is more likely\n",
            "an omission. This is a strong indication that this layer should be\n",
            "formulated as a subclassed Layer rather than a Lambda layer.\n",
            "WARNING:tensorflow:\n",
            "The following Variables were used a Lambda layer's call (tf.nn.bias_add_1), but\n",
            "are not present in its tracked objects:\n",
            "  <tf.Variable 'dense/bias:0' shape=(1000,) dtype=float32>\n",
            "It is possible that this is intended behavior, but it is more likely\n",
            "an omission. This is a strong indication that this layer should be\n",
            "formulated as a subclassed Layer rather than a Lambda layer.\n",
            "WARNING:tensorflow:\n",
            "The following Variables were used a Lambda layer's call (tf.tensordot_1), but\n",
            "are not present in its tracked objects:\n",
            "  <tf.Variable 'dense_1/kernel:0' shape=(1000, 250) dtype=float32>\n",
            "It is possible that this is intended behavior, but it is more likely\n",
            "an omission. This is a strong indication that this layer should be\n",
            "formulated as a subclassed Layer rather than a Lambda layer.\n",
            "WARNING:tensorflow:\n",
            "The following Variables were used a Lambda layer's call (tf.nn.bias_add_2), but\n",
            "are not present in its tracked objects:\n",
            "  <tf.Variable 'dense_1/bias:0' shape=(250,) dtype=float32>\n",
            "It is possible that this is intended behavior, but it is more likely\n",
            "an omission. This is a strong indication that this layer should be\n",
            "formulated as a subclassed Layer rather than a Lambda layer.\n",
            "WARNING:tensorflow:\n",
            "The following Variables were used a Lambda layer's call (tf.tensordot_2), but\n",
            "are not present in its tracked objects:\n",
            "  <tf.Variable 'dense_2/kernel:0' shape=(250, 50) dtype=float32>\n",
            "It is possible that this is intended behavior, but it is more likely\n",
            "an omission. This is a strong indication that this layer should be\n",
            "formulated as a subclassed Layer rather than a Lambda layer.\n",
            "WARNING:tensorflow:\n",
            "The following Variables were used a Lambda layer's call (tf.nn.bias_add_3), but\n",
            "are not present in its tracked objects:\n",
            "  <tf.Variable 'dense_2/bias:0' shape=(50,) dtype=float32>\n",
            "It is possible that this is intended behavior, but it is more likely\n",
            "an omission. This is a strong indication that this layer should be\n",
            "formulated as a subclassed Layer rather than a Lambda layer.\n",
            "WARNING:tensorflow:\n",
            "The following Variables were used a Lambda layer's call (tf.tensordot_3), but\n",
            "are not present in its tracked objects:\n",
            "  <tf.Variable 'dense_3/kernel:0' shape=(50, 10) dtype=float32>\n",
            "It is possible that this is intended behavior, but it is more likely\n",
            "an omission. This is a strong indication that this layer should be\n",
            "formulated as a subclassed Layer rather than a Lambda layer.\n",
            "WARNING:tensorflow:\n",
            "The following Variables were used a Lambda layer's call (tf.nn.bias_add_4), but\n",
            "are not present in its tracked objects:\n",
            "  <tf.Variable 'dense_3/bias:0' shape=(10,) dtype=float32>\n",
            "It is possible that this is intended behavior, but it is more likely\n",
            "an omission. This is a strong indication that this layer should be\n",
            "formulated as a subclassed Layer rather than a Lambda layer.\n",
            "WARNING:tensorflow:\n",
            "The following Variables were used a Lambda layer's call (tf.tensordot_4), but\n",
            "are not present in its tracked objects:\n",
            "  <tf.Variable 'dense_4/kernel:0' shape=(10, 2) dtype=float32>\n",
            "It is possible that this is intended behavior, but it is more likely\n",
            "an omission. This is a strong indication that this layer should be\n",
            "formulated as a subclassed Layer rather than a Lambda layer.\n",
            "WARNING:tensorflow:\n",
            "The following Variables were used a Lambda layer's call (tf.nn.bias_add_5), but\n",
            "are not present in its tracked objects:\n",
            "  <tf.Variable 'dense_4/bias:0' shape=(2,) dtype=float32>\n",
            "It is possible that this is intended behavior, but it is more likely\n",
            "an omission. This is a strong indication that this layer should be\n",
            "formulated as a subclassed Layer rather than a Lambda layer.\n",
            "Model: \"model\"\n",
            "_________________________________________________________________\n",
            "Layer (type)                 Output Shape              Param #   \n",
            "=================================================================\n",
            "input_1 (InputLayer)         [(None, 128, 128, 3)]     0         \n",
            "_________________________________________________________________\n",
            "resnet152 (Functional)       (None, 4, 4, 2048)        58370944  \n",
            "_________________________________________________________________\n",
            "tf.tensordot (TFOpLambda)    (None, 4, 4, 1000)        0         \n",
            "_________________________________________________________________\n",
            "tf.nn.bias_add_1 (TFOpLambda (None, 4, 4, 1000)        0         \n",
            "_________________________________________________________________\n",
            "tf.nn.relu (TFOpLambda)      (None, 4, 4, 1000)        0         \n",
            "_________________________________________________________________\n",
            "tf.tensordot_1 (TFOpLambda)  (None, 4, 4, 250)         0         \n",
            "_________________________________________________________________\n",
            "tf.nn.bias_add_2 (TFOpLambda (None, 4, 4, 250)         0         \n",
            "_________________________________________________________________\n",
            "tf.nn.relu_1 (TFOpLambda)    (None, 4, 4, 250)         0         \n",
            "_________________________________________________________________\n",
            "tf.tensordot_2 (TFOpLambda)  (None, 4, 4, 50)          0         \n",
            "_________________________________________________________________\n",
            "tf.nn.bias_add_3 (TFOpLambda (None, 4, 4, 50)          0         \n",
            "_________________________________________________________________\n",
            "tf.nn.relu_2 (TFOpLambda)    (None, 4, 4, 50)          0         \n",
            "_________________________________________________________________\n",
            "tf.tensordot_3 (TFOpLambda)  (None, 4, 4, 10)          0         \n",
            "_________________________________________________________________\n",
            "tf.nn.bias_add_4 (TFOpLambda (None, 4, 4, 10)          0         \n",
            "_________________________________________________________________\n",
            "tf.nn.relu_3 (TFOpLambda)    (None, 4, 4, 10)          0         \n",
            "_________________________________________________________________\n",
            "tf.tensordot_4 (TFOpLambda)  (None, 4, 4, 2)           0         \n",
            "_________________________________________________________________\n",
            "tf.nn.bias_add_5 (TFOpLambda (None, 4, 4, 2)           0         \n",
            "_________________________________________________________________\n",
            "tf.compat.v1.nn.softmax (TFO (None, 4, 4, 2)           0         \n",
            "_________________________________________________________________\n",
            "tf.math.reduce_mean (TFOpLam (None, 2)                 0         \n",
            "=================================================================\n",
            "Total params: 58,370,944\n",
            "Trainable params: 0\n",
            "Non-trainable params: 58,370,944\n",
            "_________________________________________________________________\n"
          ],
          "name": "stdout"
        }
      ]
    }
  ]
}