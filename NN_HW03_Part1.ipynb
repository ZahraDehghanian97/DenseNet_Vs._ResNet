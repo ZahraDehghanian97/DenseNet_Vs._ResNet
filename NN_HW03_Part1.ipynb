{
  "nbformat": 4,
  "nbformat_minor": 0,
  "metadata": {
    "colab": {
      "name": "NN_HW03_Part1.ipynb",
      "provenance": [],
      "collapsed_sections": [
        "mBbsYWNct8g1",
        "ajZ8FzAAtuHa"
      ],
      "toc_visible": true
    },
    "kernelspec": {
      "name": "python3",
      "display_name": "Python 3"
    }
  },
  "cells": [
    {
      "cell_type": "markdown",
      "metadata": {
        "id": "mBbsYWNct8g1"
      },
      "source": [
        "# **Settings**"
      ]
    },
    {
      "cell_type": "code",
      "metadata": {
        "id": "_aD9Xiz4JSts",
        "colab": {
          "base_uri": "https://localhost:8080/"
        },
        "outputId": "acb78746-3e8f-48e2-e9cc-50806bc45483"
      },
      "source": [
        "try:\r\n",
        "  %tensorflow_version 2.x\r\n",
        "  %load_ext tensorboard\r\n",
        "except:\r\n",
        "    pass"
      ],
      "execution_count": 119,
      "outputs": [
        {
          "output_type": "stream",
          "text": [
            "The tensorboard extension is already loaded. To reload it, use:\n",
            "  %reload_ext tensorboard\n"
          ],
          "name": "stdout"
        }
      ]
    },
    {
      "cell_type": "code",
      "metadata": {
        "id": "eNfNc6I9Jesr",
        "colab": {
          "base_uri": "https://localhost:8080/"
        },
        "outputId": "1c62935c-97b7-4266-f633-8887f277726e"
      },
      "source": [
        "import tensorflow as tf\r\n",
        "print(tf.__version__)"
      ],
      "execution_count": 120,
      "outputs": [
        {
          "output_type": "stream",
          "text": [
            "2.3.0\n"
          ],
          "name": "stdout"
        }
      ]
    },
    {
      "cell_type": "code",
      "metadata": {
        "colab": {
          "base_uri": "https://localhost:8080/"
        },
        "id": "Ad5dtj2wJ4SY",
        "outputId": "9ea2c96f-1b7c-46db-9a53-c8e87c6b1db0"
      },
      "source": [
        "from tensorflow import keras\r\n",
        "import numpy as np\r\n",
        "from matplotlib import pyplot as plt\r\n",
        "from datetime import datetime\r\n",
        "import os\r\n",
        "%load_ext tensorboard"
      ],
      "execution_count": 121,
      "outputs": [
        {
          "output_type": "stream",
          "text": [
            "The tensorboard extension is already loaded. To reload it, use:\n",
            "  %reload_ext tensorboard\n"
          ],
          "name": "stdout"
        }
      ]
    },
    {
      "cell_type": "code",
      "metadata": {
        "id": "ypxau_2EqiZu"
      },
      "source": [
        "import pandas as pd\r\n",
        "import seaborn as sn\r\n",
        "import matplotlib.pyplot as plt\r\n",
        "%matplotlib inline\r\n",
        "import numpy as np"
      ],
      "execution_count": 122,
      "outputs": []
    },
    {
      "cell_type": "markdown",
      "metadata": {
        "id": "yEULZS0sKgfE"
      },
      "source": [
        "# **Data Setup**"
      ]
    },
    {
      "cell_type": "code",
      "metadata": {
        "id": "1CpA9DvnKfWq"
      },
      "source": [
        "from keras.datasets import cifar10"
      ],
      "execution_count": 123,
      "outputs": []
    },
    {
      "cell_type": "code",
      "metadata": {
        "id": "r6Ba_DQWKxN2"
      },
      "source": [
        "(x_train, y_train_), (x_test, y_test_) = cifar10.load_data()"
      ],
      "execution_count": 124,
      "outputs": []
    },
    {
      "cell_type": "code",
      "metadata": {
        "id": "ISkq4Q0xNpEN"
      },
      "source": [
        "x_train = x_train.astype('float32') / 255\r\n",
        "x_test = x_test.astype('float32') / 255"
      ],
      "execution_count": 125,
      "outputs": []
    },
    {
      "cell_type": "code",
      "metadata": {
        "id": "oiB6saQgNqPc"
      },
      "source": [
        "from keras.utils import to_categorical\r\n",
        "y_train = to_categorical(y_train_)\r\n",
        "y_test = to_categorical(y_test_)"
      ],
      "execution_count": 126,
      "outputs": []
    },
    {
      "cell_type": "markdown",
      "metadata": {
        "id": "ajZ8FzAAtuHa"
      },
      "source": [
        "# **CallBack**"
      ]
    },
    {
      "cell_type": "code",
      "metadata": {
        "id": "t-Uu64V8twgb"
      },
      "source": [
        "class EarlyStoppingCallBack(keras.callbacks.Callback):\r\n",
        "  def __init__(self, patience=0):\r\n",
        "    super(EarlyStoppingCallBack, self).__init__()\r\n",
        "    self.prev_accuracy = -np.Inf\r\n",
        "    self.patience = patience\r\n",
        "\r\n",
        "  def on_train_begin(self, logs=None):\r\n",
        "    self.best = np.Inf\r\n",
        "    self.wait = 0   # counts the number of iterations that we have waited to see improvement\r\n",
        "    self.stopped_epoch = 0\r\n",
        "\r\n",
        "  def on_epoch_end(self, epoch, logs=None):\r\n",
        "    current_loss = logs.get(\"val_loss\")   # this metric should be in metrics while compiling,(Note that this is the accuracy of epoch number you gave as input)\r\n",
        "    if np.less(current_loss, self.best):\r\n",
        "      self.best = current_loss\r\n",
        "      self.wait = 0\r\n",
        "      self.best_weights = self.model.get_weights()\r\n",
        "    else:\r\n",
        "      self.wait +=1\r\n",
        "      print(\"wait mode, stop: %d\\n\" % self.wait)\r\n",
        "      if self.wait >= self.patience:\r\n",
        "        self.stopped_epoch = epoch\r\n",
        "        self.model.stop_training = True\r\n",
        "        self.model.set_weights(self.best_weights)\r\n",
        "\r\n",
        "# Check if that we stopped program by callback or not\r\n",
        "  def on_train_end(self, logs=None):\r\n",
        "    if self.stopped_epoch > 0:\r\n",
        "      print(\"epoch: %d early stopping\" %self.stopped_epoch)"
      ],
      "execution_count": 127,
      "outputs": []
    },
    {
      "cell_type": "markdown",
      "metadata": {
        "id": "5RYBpu0tOmSk"
      },
      "source": [
        "# **Model Definition**"
      ]
    },
    {
      "cell_type": "code",
      "metadata": {
        "id": "oUcksUgJOtN6"
      },
      "source": [
        "from keras.models import Sequential\r\n"
      ],
      "execution_count": 128,
      "outputs": []
    },
    {
      "cell_type": "code",
      "metadata": {
        "id": "x5Zx1jzxb1HR"
      },
      "source": [
        "from keras.layers import Conv2D, MaxPool2D, Flatten, Dense"
      ],
      "execution_count": 129,
      "outputs": []
    },
    {
      "cell_type": "code",
      "metadata": {
        "id": "c0iLxis8b23P"
      },
      "source": [
        "# define model by using regularizer\r\n",
        "\r\n",
        "model = Sequential()\r\n",
        "model.add(Conv2D(32, kernel_size=(3,3), strides=(1,1), padding='same', kernel_regularizer=keras.regularizers.l1_l2(l1=0.01, l2=0.01), input_shape=(32, 32, 3)))\r\n",
        "\r\n",
        "model.add(MaxPool2D())\r\n",
        "\r\n",
        "model.add(Conv2D(64, kernel_size=(3,3), strides=(1,1), padding='same', kernel_regularizer=keras.regularizers.l1_l2(l1=0.01, l2=0.01)))\r\n",
        "model.add(MaxPool2D())\r\n",
        "\r\n",
        "model.add(Flatten())\r\n",
        "model.add(Dense(10, activation='softmax'))"
      ],
      "execution_count": 130,
      "outputs": []
    },
    {
      "cell_type": "code",
      "metadata": {
        "id": "ujjXeSuj42aq"
      },
      "source": [
        "# define model using dropout\r\n",
        "\r\n",
        "model = Sequential()\r\n",
        "model.add(Conv2D(32, kernel_size=(3,3), strides=(1,1), padding='same', input_shape=(32, 32, 3)))\r\n",
        "model.add(MaxPool2D())\r\n",
        "model.add(keras.layers.Dropout(rate=0.1))\r\n",
        "\r\n",
        "model.add(Conv2D(64, kernel_size=(3,3), strides=(1,1), padding='same'))\r\n",
        "model.add(MaxPool2D())\r\n",
        "model.add(keras.layers.Dropout(rate=0.1))\r\n",
        "\r\n",
        "model.add(Flatten())\r\n",
        "model.add(Dense(10, activation='softmax'))"
      ],
      "execution_count": 139,
      "outputs": []
    },
    {
      "cell_type": "code",
      "metadata": {
        "id": "C-wf5qVGcEE-"
      },
      "source": [
        "model.compile(optimizer='adam',\r\n",
        "             loss='categorical_crossentropy',\r\n",
        "             metrics=['accuracy'])"
      ],
      "execution_count": 140,
      "outputs": []
    },
    {
      "cell_type": "code",
      "metadata": {
        "id": "dODEFZ2gcFov",
        "colab": {
          "base_uri": "https://localhost:8080/"
        },
        "outputId": "5900c50e-be47-409f-ab7e-0d7589237113"
      },
      "source": [
        "print(model.summary())"
      ],
      "execution_count": 132,
      "outputs": [
        {
          "output_type": "stream",
          "text": [
            "Model: \"sequential_11\"\n",
            "_________________________________________________________________\n",
            "Layer (type)                 Output Shape              Param #   \n",
            "=================================================================\n",
            "conv2d_21 (Conv2D)           (None, 32, 32, 32)        896       \n",
            "_________________________________________________________________\n",
            "max_pooling2d_21 (MaxPooling (None, 16, 16, 32)        0         \n",
            "_________________________________________________________________\n",
            "conv2d_22 (Conv2D)           (None, 16, 16, 64)        18496     \n",
            "_________________________________________________________________\n",
            "max_pooling2d_22 (MaxPooling (None, 8, 8, 64)          0         \n",
            "_________________________________________________________________\n",
            "flatten_8 (Flatten)          (None, 4096)              0         \n",
            "_________________________________________________________________\n",
            "dense_8 (Dense)              (None, 10)                40970     \n",
            "=================================================================\n",
            "Total params: 60,362\n",
            "Trainable params: 60,362\n",
            "Non-trainable params: 0\n",
            "_________________________________________________________________\n",
            "None\n"
          ],
          "name": "stdout"
        }
      ]
    },
    {
      "cell_type": "code",
      "metadata": {
        "id": "PDJuWCBIcp_9"
      },
      "source": [
        "keras.utils.plot_model(model, show_shapes=True, show_layer_names=True, expand_nested=True)"
      ],
      "execution_count": null,
      "outputs": []
    },
    {
      "cell_type": "code",
      "metadata": {
        "id": "8guS6SjgeJCi"
      },
      "source": [
        "!rm -rf \"/content/drive/MyDrive/ANN_HomeWorks/logs\""
      ],
      "execution_count": 32,
      "outputs": []
    },
    {
      "cell_type": "code",
      "metadata": {
        "id": "yMZFotbfs4wu"
      },
      "source": [
        "import os\r\n",
        "os.chdir(\"/content/drive/MyDrive/ANN_HomeWorks\")\r\n",
        "os.mkdir(\"./logs\")"
      ],
      "execution_count": 33,
      "outputs": []
    },
    {
      "cell_type": "code",
      "metadata": {
        "id": "qR30rtjUtn1Q",
        "colab": {
          "base_uri": "https://localhost:8080/"
        },
        "outputId": "4de0d820-e1ca-4f36-c54d-d6924401bce8"
      },
      "source": [
        "# Fit with Callbacks (tensorboard, es)\r\n",
        "tb_callback = keras.callbacks.TensorBoard(log_dir=\"./logs\", histogram_freq=1)\r\n",
        "es_callback = EarlyStoppingCallBack(patience=3)\r\n",
        "history = model.fit(x_train, y_train, batch_size=50, epochs=15, validation_split=0.18, callbacks=[es_callback, tb_callback])"
      ],
      "execution_count": 141,
      "outputs": [
        {
          "output_type": "stream",
          "text": [
            "Epoch 1/15\n",
            "820/820 [==============================] - 67s 82ms/step - loss: 1.5248 - accuracy: 0.4659 - val_loss: 1.2986 - val_accuracy: 0.5454\n",
            "Epoch 2/15\n",
            "820/820 [==============================] - 67s 82ms/step - loss: 1.2047 - accuracy: 0.5846 - val_loss: 1.1249 - val_accuracy: 0.6171\n",
            "Epoch 3/15\n",
            "820/820 [==============================] - 67s 82ms/step - loss: 1.0937 - accuracy: 0.6233 - val_loss: 1.1032 - val_accuracy: 0.6178\n",
            "Epoch 4/15\n",
            "820/820 [==============================] - 67s 82ms/step - loss: 1.0281 - accuracy: 0.6478 - val_loss: 1.0707 - val_accuracy: 0.6367\n",
            "Epoch 5/15\n",
            "820/820 [==============================] - 67s 82ms/step - loss: 0.9845 - accuracy: 0.6604 - val_loss: 1.0291 - val_accuracy: 0.6546\n",
            "Epoch 6/15\n",
            "820/820 [==============================] - 67s 82ms/step - loss: 0.9502 - accuracy: 0.6718 - val_loss: 1.0216 - val_accuracy: 0.6584\n",
            "Epoch 7/15\n",
            "820/820 [==============================] - 67s 82ms/step - loss: 0.9232 - accuracy: 0.6843 - val_loss: 1.0063 - val_accuracy: 0.6588\n",
            "Epoch 8/15\n",
            "820/820 [==============================] - ETA: 0s - loss: 0.8936 - accuracy: 0.6920wait mode, stop: 1\n",
            "\n",
            "820/820 [==============================] - 67s 82ms/step - loss: 0.8936 - accuracy: 0.6920 - val_loss: 1.0324 - val_accuracy: 0.6448\n",
            "Epoch 9/15\n",
            "820/820 [==============================] - ETA: 0s - loss: 0.8740 - accuracy: 0.7000wait mode, stop: 2\n",
            "\n",
            "820/820 [==============================] - 68s 83ms/step - loss: 0.8740 - accuracy: 0.7000 - val_loss: 1.0164 - val_accuracy: 0.6609\n",
            "Epoch 10/15\n",
            "820/820 [==============================] - ETA: 0s - loss: 0.8473 - accuracy: 0.7099wait mode, stop: 3\n",
            "\n",
            "820/820 [==============================] - 67s 81ms/step - loss: 0.8473 - accuracy: 0.7099 - val_loss: 1.0332 - val_accuracy: 0.6491\n",
            "epoch: 9 early stopping\n"
          ],
          "name": "stdout"
        }
      ]
    },
    {
      "cell_type": "code",
      "metadata": {
        "id": "U0EcFjkCvVGs"
      },
      "source": [
        "%tensorboard --logdir logs"
      ],
      "execution_count": null,
      "outputs": []
    },
    {
      "cell_type": "code",
      "metadata": {
        "colab": {
          "base_uri": "https://localhost:8080/"
        },
        "id": "XApb-2zphnOg",
        "outputId": "422b34de-02c4-4dbe-ab06-cbc0a7bf89a1"
      },
      "source": [
        "# evaluating\r\n",
        "test_loss, test_acc = model.evaluate(x_test, y_test, verbose = 1)"
      ],
      "execution_count": 142,
      "outputs": [
        {
          "output_type": "stream",
          "text": [
            "313/313 [==============================] - 5s 15ms/step - loss: 1.0128 - accuracy: 0.6549\n"
          ],
          "name": "stdout"
        }
      ]
    },
    {
      "cell_type": "code",
      "metadata": {
        "id": "bpoPtCf2httr"
      },
      "source": [
        "# Predicting labels\r\n",
        "from sklearn.metrics import confusion_matrix\r\n",
        "predicted_values = model.predict(x_test)\r\n",
        "predicted_classes = np.argmax(predicted_values, axis=1)\r\n",
        "true_classes = np.argmax(y_test, axis=1)\r\n",
        "cof_mat = confusion_matrix(true_classes, predicted_classes)\r\n"
      ],
      "execution_count": 143,
      "outputs": []
    },
    {
      "cell_type": "code",
      "metadata": {
        "colab": {
          "base_uri": "https://localhost:8080/",
          "height": 737
        },
        "id": "ZTzSnsXCkQZ2",
        "outputId": "2ac53873-5cf5-4e1f-c61e-4ad9317763fa"
      },
      "source": [
        "\r\n",
        "df_cm = pd.DataFrame(cof_mat, columns=np.unique(true_classes), index = np.unique(true_classes))\r\n",
        "df_cm.index.name = 'Actual'\r\n",
        "df_cm.columns.name = 'Predicted'\r\n",
        "plt.figure(figsize = (12,12))\r\n",
        "sn.set(font_scale=1.0)\r\n",
        "sn.heatmap(df_cm, cmap=\"Blues\", annot=True,annot_kws={\"size\": 11})\r\n"
      ],
      "execution_count": 144,
      "outputs": [
        {
          "output_type": "execute_result",
          "data": {
            "text/plain": [
              "<matplotlib.axes._subplots.AxesSubplot at 0x7f960fd47160>"
            ]
          },
          "metadata": {
            "tags": []
          },
          "execution_count": 144
        },
        {
          "output_type": "display_data",
          "data": {
            "image/png": "[encoded data removed]",
            "text/plain": [
              "<Figure size 864x864 with 2 Axes>"
            ]
          },
          "metadata": {
            "tags": []
          }
        }
      ]
    }
  ]
}